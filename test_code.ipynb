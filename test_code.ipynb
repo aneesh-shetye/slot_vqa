{
 "cells": [
  {
   "cell_type": "code",
   "execution_count": 1,
   "metadata": {},
   "outputs": [
    {
     "name": "stderr",
     "output_type": "stream",
     "text": [
      "/home/aneesh/.conda/envs/slotvqa/lib/python3.9/site-packages/tqdm/auto.py:22: TqdmWarning: IProgress not found. Please update jupyter and ipywidgets. See https://ipywidgets.readthedocs.io/en/stable/user_install.html\n",
      "  from .autonotebook import tqdm as notebook_tqdm\n"
     ]
    },
    {
     "ename": "ModuleNotFoundError",
     "evalue": "No module named 'datasets.gqa_tweaked'",
     "output_type": "error",
     "traceback": [
      "\u001b[0;31m---------------------------------------------------------------------------\u001b[0m",
      "\u001b[0;31mModuleNotFoundError\u001b[0m                       Traceback (most recent call last)",
      "\u001b[1;32m/home/aneesh/github/slot_vqa/model/test_code.ipynb Cell 1\u001b[0m in \u001b[0;36m<cell line: 23>\u001b[0;34m()\u001b[0m\n\u001b[1;32m     <a href='vscode-notebook-cell://ssh-remote%2B7b22686f73744e616d65223a223132392e37302e3130342e313936222c2275736572223a22616e65657368227d/home/aneesh/github/slot_vqa/model/test_code.ipynb#W0sdnNjb2RlLXJlbW90ZQ%3D%3D?line=18'>19</a>\u001b[0m \u001b[39mfrom\u001b[39;00m \u001b[39mtransformers\u001b[39;00m \u001b[39mimport\u001b[39;00m AutoTokenizer, BertModel, CLIPVisionModel, CLIPTextModel, CLIPTokenizer, CLIPProcessor\n\u001b[1;32m     <a href='vscode-notebook-cell://ssh-remote%2B7b22686f73744e616d65223a223132392e37302e3130342e313936222c2275736572223a22616e65657368227d/home/aneesh/github/slot_vqa/model/test_code.ipynb#W0sdnNjb2RlLXJlbW90ZQ%3D%3D?line=20'>21</a>\u001b[0m \u001b[39m#from vg_dataloader import VG_dataset\u001b[39;00m\n\u001b[1;32m     <a href='vscode-notebook-cell://ssh-remote%2B7b22686f73744e616d65223a223132392e37302e3130342e313936222c2275736572223a22616e65657368227d/home/aneesh/github/slot_vqa/model/test_code.ipynb#W0sdnNjb2RlLXJlbW90ZQ%3D%3D?line=21'>22</a>\u001b[0m \u001b[39m###########\u001b[39;00m\n\u001b[0;32m---> <a href='vscode-notebook-cell://ssh-remote%2B7b22686f73744e616d65223a223132392e37302e3130342e313936222c2275736572223a22616e65657368227d/home/aneesh/github/slot_vqa/model/test_code.ipynb#W0sdnNjb2RlLXJlbW90ZQ%3D%3D?line=22'>23</a>\u001b[0m \u001b[39mfrom\u001b[39;00m \u001b[39mdatasets\u001b[39;00m\u001b[39m.\u001b[39;00m\u001b[39mgqa_tweaked\u001b[39;00m \u001b[39mimport\u001b[39;00m MyCollate\n\u001b[1;32m     <a href='vscode-notebook-cell://ssh-remote%2B7b22686f73744e616d65223a223132392e37302e3130342e313936222c2275736572223a22616e65657368227d/home/aneesh/github/slot_vqa/model/test_code.ipynb#W0sdnNjb2RlLXJlbW90ZQ%3D%3D?line=23'>24</a>\u001b[0m \u001b[39mfrom\u001b[39;00m \u001b[39mdatasets\u001b[39;00m\u001b[39m.\u001b[39;00m\u001b[39mgqa_tweaked\u001b[39;00m \u001b[39mimport\u001b[39;00m build \n\u001b[1;32m     <a href='vscode-notebook-cell://ssh-remote%2B7b22686f73744e616d65223a223132392e37302e3130342e313936222c2275736572223a22616e65657368227d/home/aneesh/github/slot_vqa/model/test_code.ipynb#W0sdnNjb2RlLXJlbW90ZQ%3D%3D?line=24'>25</a>\u001b[0m \u001b[39m##########\u001b[39;00m\n",
      "\u001b[0;31mModuleNotFoundError\u001b[0m: No module named 'datasets.gqa_tweaked'"
     ]
    }
   ],
   "source": [
    "\n",
    "import numpy as np\n",
    "from pathlib import Path\n",
    "import argparse\n",
    "import json\n",
    "import math\n",
    "import os\n",
    "import random\n",
    "import signal\n",
    "import subprocess\n",
    "import sys\n",
    "import time\n",
    "\n",
    "import matplotlib.pyplot as plt\n",
    "\n",
    "import torch\n",
    "from torch import nn, optim \n",
    "import torch.nn.functional as F \n",
    "#from torchvision import transforms\n",
    "from transformers import AutoTokenizer, BertModel, CLIPVisionModel, CLIPTextModel, CLIPTokenizer, CLIPProcessor\n",
    "\n",
    "#from vg_dataloader import VG_dataset\n",
    "###########\n",
    "from .datasets.gqa_tweaked import MyCollate\n",
    "from datasets.gqa_tweaked import build \n",
    "##########\n",
    "from model.model import SlotVQA\n",
    "\n",
    "import wandb\n",
    "import wandb.apis.reports as wr\n",
    "import  pytorch_warmup as warmup\n",
    "#endregion\n",
    "\n",
    "#region: SETTING ENV VARIABLES: \n",
    "os.environ['TRANSFORMERS_OFFLINE'] = 'yes'\n",
    "os.environ['WANDB_START_METHOD'] = 'thread'\n",
    "os.environ['CUDA_LAUNCH_BLOCKING'] = '1'\n",
    "os.environ[\"TOKENIZERS_PARALLELISM\"] = \"true\"\n",
    "#endregion\n"
   ]
  },
  {
   "cell_type": "code",
   "execution_count": null,
   "metadata": {},
   "outputs": [],
   "source": []
  }
 ],
 "metadata": {
  "kernelspec": {
   "display_name": "Python 3.9.12 ('slotvqa')",
   "language": "python",
   "name": "python3"
  },
  "language_info": {
   "codemirror_mode": {
    "name": "ipython",
    "version": 3
   },
   "file_extension": ".py",
   "mimetype": "text/x-python",
   "name": "python",
   "nbconvert_exporter": "python",
   "pygments_lexer": "ipython3",
   "version": "3.9.12"
  },
  "orig_nbformat": 4,
  "vscode": {
   "interpreter": {
    "hash": "c45a33b5c9aef40ef8fa051256ff22d2bf2188af8a432dc1848ef4f593aa5421"
   }
  }
 },
 "nbformat": 4,
 "nbformat_minor": 2
}
